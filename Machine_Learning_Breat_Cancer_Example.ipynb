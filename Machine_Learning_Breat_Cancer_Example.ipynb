{
  "nbformat": 4,
  "nbformat_minor": 0,
  "metadata": {
    "kernelspec": {
      "display_name": "Python 3",
      "language": "python",
      "name": "python3"
    },
    "language_info": {
      "codemirror_mode": {
        "name": "ipython",
        "version": 3
      },
      "file_extension": ".py",
      "mimetype": "text/x-python",
      "name": "python",
      "nbconvert_exporter": "python",
      "pygments_lexer": "ipython3",
      "version": "3.7.3"
    },
    "colab": {
      "provenance": [],
      "include_colab_link": true
    }
  },
  "cells": [
    {
      "cell_type": "markdown",
      "metadata": {
        "id": "view-in-github",
        "colab_type": "text"
      },
      "source": [
        "<a href=\"https://colab.research.google.com/github/UmaRafael/Dio-desafio-github-primeiro-reposit-rio/blob/main/Machine_Learning_Breat_Cancer_Example.ipynb\" target=\"_parent\"><img src=\"https://colab.research.google.com/assets/colab-badge.svg\" alt=\"Open In Colab\"/></a>"
      ]
    },
    {
      "cell_type": "markdown",
      "metadata": {
        "id": "Zj94ugK12QOC"
      },
      "source": [
        "### ------------------------------------------------------------------------------------\n",
        "### Aula Mineração de Dados - Pos Processamento dos Dados\n",
        "### ------------------------------------------------------------------------------------\n",
        "- Algoritmos:  Árvore de Decisão, KNN e Randon Forest\n",
        "- Base de dados: Breast Cancer"
      ]
    },
    {
      "cell_type": "markdown",
      "metadata": {
        "id": "IDHxxwlQ2QOF"
      },
      "source": [
        "### (1) Construção dos modelos de predição"
      ]
    },
    {
      "cell_type": "code",
      "metadata": {
        "scrolled": false,
        "id": "B1yAJ7rK2QOH"
      },
      "source": [
        "#Classification of cancer dignosis\n",
        "#importing the libraries\n",
        "import numpy as np\n",
        "import matplotlib.pyplot as plt\n",
        "import pandas as pd\n",
        "from sklearn.tree import DecisionTreeClassifier\n",
        "from sklearn import tree\n",
        "from sklearn.preprocessing import LabelEncoder\n",
        "from sklearn.model_selection import train_test_split\n",
        "from sklearn.metrics import accuracy_score\n",
        "\n",
        "#importing the dados\n",
        "dados = pd.read_csv('bases/breast_cancer_missing.csv')\n",
        "\n",
        "#Pre-processamento\n",
        "valores_ausentes = dados.isnull()\n",
        "medias = dados.mean()\n",
        "dados.fillna(medias, inplace=True)\n",
        "\n",
        "dados = dados[dados['diagnosis'].notna()]\n",
        "\n",
        "#Variáveis Dummy\n",
        "dados = pd.get_dummies(dados,columns=['diagnosis'], drop_first=True)\n",
        "\n",
        "#Muda o nome da coluna diagnosis\n",
        "colunas = dados.drop('diagnosis_malignant', axis=1)\n",
        "# obtem numpy.array bidimensional\n",
        "\n",
        "#Faz a separação entre previsores e classe\n",
        "X = colunas.values\n",
        "y = dados['diagnosis_malignant']\n",
        "\n",
        "#Preparação dos dados para treino e teste\n",
        "X_treino, X_teste, y_treino, y_teste = train_test_split(X,\n",
        "                            y, train_size=0.7, test_size=0.3)\n",
        "\n",
        "#Feature Scaling (Normalização)\n",
        "from sklearn.preprocessing import StandardScaler\n",
        "sc = StandardScaler()\n",
        "X_treino = sc.fit_transform(X_treino)\n",
        "X_teste = sc.transform(X_teste)"
      ],
      "execution_count": null,
      "outputs": []
    },
    {
      "cell_type": "code",
      "metadata": {
        "scrolled": true,
        "id": "Lcf8IWB-2QOJ",
        "outputId": "4f10a0c2-5943-4a0e-ed55-b385d2e0dad7"
      },
      "source": [
        "X.shape, y.shape, X_treino.shape, y_treino.shape, X_teste.shape, y_teste.shape"
      ],
      "execution_count": null,
      "outputs": [
        {
          "output_type": "execute_result",
          "data": {
            "text/plain": [
              "((505, 31), (505,), (353, 31), (353,), (152, 31), (152,))"
            ]
          },
          "metadata": {
            "tags": []
          },
          "execution_count": 58
        }
      ]
    },
    {
      "cell_type": "markdown",
      "metadata": {
        "id": "3KT0joLY2QOK"
      },
      "source": [
        "#### Incluindo as bibliotecas para avaliação dos modelos"
      ]
    },
    {
      "cell_type": "code",
      "metadata": {
        "collapsed": true,
        "id": "TOFF8dUI2QOL"
      },
      "source": [
        "from sklearn.metrics import (recall_score,\n",
        "                             accuracy_score,\n",
        "                             precision_score,\n",
        "                             f1_score)"
      ],
      "execution_count": null,
      "outputs": []
    },
    {
      "cell_type": "markdown",
      "metadata": {
        "id": "5l1EWtGZ2QOL"
      },
      "source": [
        "#### Árvore de Decisão"
      ]
    },
    {
      "cell_type": "code",
      "metadata": {
        "collapsed": true,
        "id": "O6ozd_OM2QOM"
      },
      "source": [
        "#Fitting Decision Tree Algorithm\n",
        "from sklearn.tree import DecisionTreeClassifier\n",
        "# instancia um DecisionTreeClassifier\n",
        "clf_DT = DecisionTreeClassifier()\n",
        "\n",
        "# treina o classificador\n",
        "clf_DT.fit(X_treino, y_treino)\n",
        "DT_pred = clf_DT.predict(X_teste)"
      ],
      "execution_count": null,
      "outputs": []
    },
    {
      "cell_type": "markdown",
      "metadata": {
        "id": "4-zLXxZt2QOM"
      },
      "source": [
        "#### Algoritmo KNN"
      ]
    },
    {
      "cell_type": "code",
      "metadata": {
        "collapsed": true,
        "id": "_8SXB8_J2QOM"
      },
      "source": [
        "#Fitting K-NN Algorithm\n",
        "from sklearn.neighbors import KNeighborsClassifier\n",
        "clf_KNN = KNeighborsClassifier(n_neighbors = 5, metric = 'minkowski', p = 2)\n",
        "\n",
        "# treina o classificador\n",
        "clf_KNN.fit(X_treino, y_treino)\n",
        "KNN_pred = clf_KNN.predict(X_teste)"
      ],
      "execution_count": null,
      "outputs": []
    },
    {
      "cell_type": "markdown",
      "metadata": {
        "id": "uc0nYCqE2QON"
      },
      "source": [
        "#### Algoritmo Randon Forest"
      ]
    },
    {
      "cell_type": "code",
      "metadata": {
        "collapsed": true,
        "id": "Hy-kzLRS2QON"
      },
      "source": [
        "#Fitting Random Forest Classification Algorithm\n",
        "from sklearn.ensemble import RandomForestClassifier\n",
        "clf_RF = RandomForestClassifier(n_estimators = 100, criterion = 'entropy')\n",
        "\n",
        "# treina o classificador\n",
        "clf_RF.fit(X_treino, y_treino)\n",
        "RF_pred = clf_RF.predict(X_teste)"
      ],
      "execution_count": null,
      "outputs": []
    },
    {
      "cell_type": "markdown",
      "metadata": {
        "id": "qWDqhhxl2QON"
      },
      "source": [
        "### (2) Matriz Confusão"
      ]
    },
    {
      "cell_type": "code",
      "metadata": {
        "collapsed": true,
        "id": "0xMget_B2QON"
      },
      "source": [
        "from sklearn.metrics import confusion_matrix, classification_report\n",
        "import seaborn as sns"
      ],
      "execution_count": null,
      "outputs": []
    },
    {
      "cell_type": "markdown",
      "metadata": {
        "id": "KgPtVzto2QOO"
      },
      "source": [
        "#### Árvore de Decisão"
      ]
    },
    {
      "cell_type": "code",
      "metadata": {
        "id": "A5PaXvem2QOO",
        "outputId": "41e9ce8c-8a0c-40a3-f49c-e8fcb17c3612"
      },
      "source": [
        "sns.heatmap(confusion_matrix(y_teste, DT_pred), cmap='OrRd', annot=True, fmt='2.0f')\n",
        "plt.title('Decision Tree')\n",
        "plt.ylabel('P R E V I S T O')\n",
        "plt.xlabel('R E A L')\n",
        "plt.show()"
      ],
      "execution_count": null,
      "outputs": [
        {
          "output_type": "display_data",
          "data": {
            "image/png": "[encoded data removed]",
            "text/plain": [
              "<Figure size 432x288 with 2 Axes>"
            ]
          },
          "metadata": {
            "tags": []
          }
        }
      ]
    },
    {
      "cell_type": "markdown",
      "metadata": {
        "id": "-JNSxC9_2QOO"
      },
      "source": [
        "#### KNN"
      ]
    },
    {
      "cell_type": "code",
      "metadata": {
        "id": "zn1LMzos2QOP",
        "outputId": "121815f9-7a20-4b67-aeab-f99a0093a073"
      },
      "source": [
        "sns.heatmap(confusion_matrix(y_teste, KNN_pred), cmap='OrRd', annot=True, fmt='2.0f')\n",
        "plt.title('KNN')\n",
        "plt.ylabel('P R E V I S T O')\n",
        "plt.xlabel('R E A L')\n",
        "plt.show()"
      ],
      "execution_count": null,
      "outputs": [
        {
          "output_type": "display_data",
          "data": {
            "image/png": "[encoded data removed]",
            "text/plain": [
              "<Figure size 432x288 with 2 Axes>"
            ]
          },
          "metadata": {
            "tags": []
          }
        }
      ]
    },
    {
      "cell_type": "markdown",
      "metadata": {
        "id": "O3VJCUZV2QOP"
      },
      "source": [
        "#### Randon Forest"
      ]
    },
    {
      "cell_type": "code",
      "metadata": {
        "scrolled": true,
        "id": "j7MIkP5P2QOP",
        "outputId": "8deacda4-dd55-4103-ded7-9d02cc77dd5b"
      },
      "source": [
        "sns.heatmap(confusion_matrix(y_teste, RF_pred), cmap='OrRd', annot=True, fmt='2.0f')\n",
        "plt.title('RANDON FOREST')\n",
        "plt.ylabel('P R E V I S T O')\n",
        "plt.xlabel('R E A L')\n",
        "plt.show()"
      ],
      "execution_count": null,
      "outputs": [
        {
          "output_type": "display_data",
          "data": {
            "image/png": "[encoded data removed]",
            "text/plain": [
              "<Figure size 432x288 with 2 Axes>"
            ]
          },
          "metadata": {
            "tags": []
          }
        }
      ]
    },
    {
      "cell_type": "markdown",
      "metadata": {
        "id": "2jANmId22QOP"
      },
      "source": [
        "### (3) Avaliando os modelos"
      ]
    },
    {
      "cell_type": "code",
      "metadata": {
        "scrolled": true,
        "id": "gypbXLPm2QOQ",
        "outputId": "221e3ed2-b6a4-4185-86ba-13be561bfecc"
      },
      "source": [
        "# Acuracidade\n",
        "print(\"ACC (DT) :%.2f\" %(accuracy_score(y_teste,DT_pred)))\n",
        "print(\"ACC (KNN) :%.2f\" %(accuracy_score(y_teste,KNN_pred)))\n",
        "print(\"ACC (RF) :%.2f\" %(accuracy_score(y_teste,RF_pred)))\n",
        "\n",
        "#Revocação\n",
        "print(\"Recall (DT) :%.2f\" %(recall_score(y_teste,DT_pred)))\n",
        "print(\"Recall (KNN) :%.2f\" %(recall_score(y_teste,KNN_pred)))\n",
        "print(\"Recall (RF) :%.2f\" %(recall_score(y_teste,RF_pred)))\n",
        "\n",
        "#Precisão\n",
        "print(\"Precision (DT) :%.2f\" %(precision_score(y_teste,DT_pred)))\n",
        "print(\"Precision (KNN) :%.2f\" %(precision_score(y_teste,KNN_pred)))\n",
        "print(\"Precision (RF) :%.2f\" %(precision_score(y_teste,RF_pred)))\n",
        "\n",
        "#F1-score\n",
        "print(\"F1-score (DT) :%.2f\" %(f1_score(y_teste,DT_pred)))\n",
        "print(\"F1-score (KNN) :%.2f\" %(f1_score(y_teste,KNN_pred)))\n",
        "print(\"F1-score (RF) :%.2f\" %(f1_score(y_teste,RF_pred)))\n"
      ],
      "execution_count": null,
      "outputs": [
        {
          "output_type": "stream",
          "text": [
            "ACC (DT) :0.92\n",
            "ACC (KNN) :0.93\n",
            "ACC (RF) :0.94\n",
            "Recall (DT) :0.85\n",
            "Recall (KNN) :0.85\n",
            "Recall (RF) :0.87\n",
            "Precision (DT) :0.92\n",
            "Precision (KNN) :0.96\n",
            "Precision (RF) :0.96\n",
            "F1-score (DT) :0.88\n",
            "F1-score (KNN) :0.90\n",
            "F1-score (RF) :0.91\n"
          ],
          "name": "stdout"
        }
      ]
    },
    {
      "cell_type": "markdown",
      "metadata": {
        "id": "DGTB_Y8j2QOQ"
      },
      "source": [
        "### (4) Curvas ROC e AUC"
      ]
    },
    {
      "cell_type": "markdown",
      "metadata": {
        "id": "GqRV2yiM2QOQ"
      },
      "source": [
        "Em aprendizagem de máquina, a medição de desempenho é uma tarefa crucial. As métricas ROC (Receiver Operating Characteristics) e AUC (Area Under The Curve) são as mais utilizadas para medir o desempenho de modelos de classificação."
      ]
    },
    {
      "cell_type": "markdown",
      "metadata": {
        "id": "G1bo8s7U2QOR"
      },
      "source": [
        "ROC é uma curva de probabilidade. Ela é criada traçando a taxa verdadeiro-positivo contra a taxa de falsos-positivos. Ou seja, numero de vezes que o classificador acertou a predição conta o número de vezes que o classificador errou a predição.\n",
        "\n",
        "O AUC representa o grau ou medida de separabilidade. Quanto maior o AUC, melhor o modelo está em prever 0s como 0s e 1s como 1s. AUC resume a curva ROC num único valor, calculando a “área sob a curva”."
      ]
    },
    {
      "cell_type": "markdown",
      "metadata": {
        "id": "jcTX5YVT2QOR"
      },
      "source": [
        "Um modelo excelente tem AUC próximo ao 1, o que significa que tem boa medida de separabilidade. Um modelo pobre tem AUC próximo do 0, o que significa que tem a pior medida de separabilidade, ou seja, está prevendo 0s como 1s e 1s como 0s. E quando a AUC é 0,5, significa que o modelo não tem capacidade de separação de classe."
      ]
    },
    {
      "cell_type": "markdown",
      "metadata": {
        "id": "J-z6z7mZ2QOR"
      },
      "source": [
        "O formato da curva contem várias informações, dentre elas, a taxa esperada de falsos positivos e taxa esperada de falsos negativos.\n",
        "* O quanto menor for o eixo x menor a quantidade de falsos positivos e maior verdadeiros negativos.\n",
        "* Quanto maiores os valores no eixo y, maior a quantidade de verdadeiros positivos e menor a quantidade de falsos negativos."
      ]
    },
    {
      "cell_type": "code",
      "metadata": {
        "collapsed": true,
        "id": "kYrNUrxp2QOS"
      },
      "source": [
        "from sklearn.metrics import roc_curve\n",
        "from sklearn.metrics import roc_auc_score"
      ],
      "execution_count": null,
      "outputs": []
    },
    {
      "cell_type": "code",
      "metadata": {
        "id": "jTd41Rmf2QOS",
        "outputId": "7930d113-677c-474d-f4d0-2d06ea97b90a"
      },
      "source": [
        "ns_probs = [0 for _ in range(len(y_teste))] # gerar lista de zeros (sem habilidade)\n",
        "ns_auc = roc_auc_score(y_teste, ns_probs)\n",
        "\n",
        "#Decision Tree\n",
        "DT_probs = clf_DT.predict_proba(X_teste)\n",
        "DT_probs = DT_probs[:,1]\n",
        "DT_auc = roc_auc_score(y_teste, DT_probs)\n",
        "\n",
        "#KNN\n",
        "KNN_probs = clf_KNN.predict_proba(X_teste)\n",
        "KNN_probs = KNN_probs[:,1]\n",
        "KNN_auc = roc_auc_score(y_teste, KNN_probs)\n",
        "\n",
        "#Randon Forest\n",
        "RF_probs = clf_RF.predict_proba(X_teste)\n",
        "RF_probs = RF_probs[:,1]\n",
        "RF_auc = roc_auc_score(y_teste, RF_probs)\n",
        "\n",
        "print('Sem habilidade: ROC AUC=%.3f' %(ns_auc))\n",
        "print('Decision Tree: ROC AUC=%.3f' %(DT_auc))\n",
        "print('KNN: ROC AUC=%.3f' %(KNN_auc))\n",
        "print('Randon Forest: ROC AUC=%.3f' %(RF_auc))\n",
        "\n",
        "# calcular a curva ROC\n",
        "ns_tfp, ns_tvp, _ = roc_curve(y_teste, ns_probs)\n",
        "DT_tfp, DT_tvp, _ = roc_curve(y_teste, DT_probs)\n",
        "KNN_tfp, KNN_tvp, _ = roc_curve(y_teste, KNN_probs)\n",
        "RF_tfp, RF_tvp, _ = roc_curve(y_teste, RF_probs)\n",
        "\n",
        "plt.plot(ns_tfp, ns_tvp, linestyle='--')\n",
        "plt.plot(KNN_tfp, KNN_tvp, marker='x', label='KNN')\n",
        "plt.plot(DT_tfp, DT_tvp, marker='.', label='Decision Tree')\n",
        "plt.plot(RF_tfp, RF_tvp, marker='+', label='Randon Forest')\n",
        "\n",
        "\n",
        "plt.xlabel('Taxa de Falsos Positivos')\n",
        "plt.ylabel('Taxa de Verdadeiros Positivos')\n",
        "plt.legend(loc=4)\n",
        "\n",
        "plt.show()"
      ],
      "execution_count": null,
      "outputs": [
        {
          "output_type": "stream",
          "text": [
            "Sem habilidade: ROC AUC=0.500\n",
            "Decision Tree: ROC AUC=0.903\n",
            "KNN: ROC AUC=0.978\n",
            "Randon Forest: ROC AUC=0.984\n"
          ],
          "name": "stdout"
        },
        {
          "output_type": "display_data",
          "data": {
            "image/png": "[encoded data removed]",
            "text/plain": [
              "<Figure size 432x288 with 1 Axes>"
            ]
          },
          "metadata": {
            "tags": []
          }
        }
      ]
    }
  ]
}